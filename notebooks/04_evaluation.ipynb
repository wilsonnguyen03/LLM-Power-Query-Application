{
 "cells": [
  {
   "cell_type": "code",
   "execution_count": 7,
   "id": "0b9bacf1",
   "metadata": {},
   "outputs": [],
   "source": [
    "import numpy as np\n",
    "import pandas as pd\n",
    "import faiss\n",
    "from sentence_transformers import SentenceTransformer\n",
    "from rouge_score import rouge_scorer\n",
    "from transformers import pipeline\n",
    "import matplotlib.pyplot as plt\n"
   ]
  },
  {
   "cell_type": "code",
   "execution_count": 13,
   "id": "ee366270",
   "metadata": {},
   "outputs": [
    {
     "name": "stdout",
     "output_type": "stream",
     "text": [
      "Average Recall@5: 0.60\n"
     ]
    }
   ],
   "source": [
    "df = pd.read_csv(\"../data/processed/chunks_embedded.csv\")\n",
    "index = faiss.read_index(\"../models/embeddings.faiss\")\n",
    "model = SentenceTransformer(\"all-mpnet-base-v2\")\n",
    "\n",
    "# Build new test queries automatically\n",
    "sampled = df.sample(10, random_state=42)\n",
    "test_queries = []\n",
    "for i, row in sampled.iterrows():\n",
    "    text = row[\"text\"]\n",
    "    sentence = text.split(\".\")[0][:80]  # first sentence snippet\n",
    "    query = f\"What does this text say about: {sentence}...\"\n",
    "    test_queries.append({\"q\": query, \"relevant\": [i]})\n",
    "\n",
    "# Compute Recall@3\n",
    "k = 5\n",
    "recalls = []\n",
    "for test in test_queries:\n",
    "    q_emb = model.encode([test[\"q\"]])\n",
    "    D, I = index.search(np.array(q_emb).astype(\"float32\"), k)\n",
    "    retrieved = set(I[0])\n",
    "    relevant = set(test[\"relevant\"])\n",
    "    recall = len(retrieved & relevant) / len(relevant)\n",
    "    recalls.append(recall)\n",
    "\n",
    "print(f\"Average Recall@{k}: {np.mean(recalls):.2f}\")\n"
   ]
  },
  {
   "cell_type": "code",
   "execution_count": 14,
   "id": "93bb30f4",
   "metadata": {},
   "outputs": [
    {
     "name": "stdout",
     "output_type": "stream",
     "text": [
      "460 12, 35, 54, 57, 71, 104, 131Han’gul alphabet 130, 131Hannibal 70–1Harald Hardrada of Norway 95Harrison, John 189Harun al-Rashid, Caliph 88–90Hawkins, John 176Al-Haythem 91Hegel, Georg 14, 240Hellenist \n",
      "\n",
      "24 of the Bastille 214 I must make of all the peoples of Europe one people, and of Paris the capital of the world The Battle of Waterloo216 Let us lay the cornerstone of American freedom without fear. To \n",
      "\n",
      "463 Emperor 228, 240, 256, 265Napoleonic Wars 214–15, 216, 217Narmer, King 38Nasser, Colonel Gamal 318–20nationalism 14, 203, 229, 238–41, 306, 319, 320, 321, 326NATO 297, 321, 323, 326natural selection 2 \n",
      "\n"
     ]
    }
   ],
   "source": [
    "query = \"What is this document about?\"\n",
    "q_emb = model.encode([query])\n",
    "D, I = index.search(np.array(q_emb).astype(\"float32\"), 3)\n",
    "for idx in I[0]:\n",
    "    print(idx, df.iloc[idx][\"text\"][:200], \"\\n\")\n"
   ]
  },
  {
   "cell_type": "code",
   "execution_count": 15,
   "id": "01b19eac",
   "metadata": {},
   "outputs": [
    {
     "name": "stderr",
     "output_type": "stream",
     "text": [
      "Device set to use cpu\n"
     ]
    },
    {
     "name": "stdout",
     "output_type": "stream",
     "text": [
      "Avg ROUGE-L: 0.13247863247863248\n"
     ]
    }
   ],
   "source": [
    "\n",
    "qa = pipeline(\"text2text-generation\", model=\"google/flan-t5-base\")\n",
    "scorer = rouge_scorer.RougeScorer([\"rougeL\"], use_stemmer=True)\n",
    "\n",
    "refs = [\n",
    "    \"The document explains mineral sampling steps.\",\n",
    "    \"It outlines safety protocols for handling equipment.\"\n",
    "]\n",
    "gens = []\n",
    "for r in refs:\n",
    "    gen = qa(\"Summarize: \" + r)[0][\"generated_text\"]\n",
    "    gens.append(gen)\n",
    "\n",
    "scores = [scorer.score(ref, gen)[\"rougeL\"].fmeasure for ref, gen in zip(refs, gens)]\n",
    "print(\"Avg ROUGE-L:\", np.mean(scores))\n"
   ]
  },
  {
   "cell_type": "code",
   "execution_count": 17,
   "id": "0a52371c",
   "metadata": {},
   "outputs": [
    {
     "data": {
      "image/png": "[encoded data removed]",
      "text/plain": [
       "<Figure size 640x480 with 1 Axes>"
      ]
     },
     "metadata": {},
     "output_type": "display_data"
    }
   ],
   "source": [
    "import matplotlib.pyplot as plt\n",
    "plt.bar([\"Recall@3\"], [0.5])\n",
    "plt.title(\"Retrieval Evaluation\")\n",
    "plt.ylim(0,1)\n",
    "plt.show()"
   ]
  }
 ],
 "metadata": {
  "kernelspec": {
   "display_name": ".venv",
   "language": "python",
   "name": "python3"
  },
  "language_info": {
   "codemirror_mode": {
    "name": "ipython",
    "version": 3
   },
   "file_extension": ".py",
   "mimetype": "text/x-python",
   "name": "python",
   "nbconvert_exporter": "python",
   "pygments_lexer": "ipython3",
   "version": "3.12.2"
  }
 },
 "nbformat": 4,
 "nbformat_minor": 5
}

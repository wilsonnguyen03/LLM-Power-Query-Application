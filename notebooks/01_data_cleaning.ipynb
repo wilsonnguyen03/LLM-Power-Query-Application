{
 "cells": [
  {
   "cell_type": "code",
   "execution_count": 5,
   "id": "aca611ab",
   "metadata": {},
   "outputs": [],
   "source": [
    "import os, re, glob\n",
    "import pandas as pd\n",
    "from bs4 import BeautifulSoup\n",
    "from PyPDF2 import PdfReader"
   ]
  },
  {
   "cell_type": "code",
   "execution_count": 8,
   "id": "356c2942",
   "metadata": {},
   "outputs": [
    {
     "name": "stdout",
     "output_type": "stream",
     "text": [
      "Saved 471 chunks to ../data/processed/chunks.csv\n"
     ]
    }
   ],
   "source": [
    "RAW_DIR = \"../data/raw\"\n",
    "OUT_PATH = \"../data/processed/chunks.csv\"\n",
    "\n",
    "def extract_text(file_path):\n",
    "    text = \"\"\n",
    "    if file_path.endswith(\".pdf\"):\n",
    "        reader = PdfReader(file_path)\n",
    "        for page in reader.pages:\n",
    "            text += page.extract_text() + \"\\n\"\n",
    "    elif file_path.endswith(\".html\") or file_path.endswith(\".htm\"):\n",
    "        with open(file_path, encoding=\"utf-8\") as f:\n",
    "            html = f.read()\n",
    "        text = BeautifulSoup(html, \"html.parser\").get_text()\n",
    "    else:\n",
    "        print(f\"Skipping unsupported file: {file_path}\")\n",
    "    return text\n",
    "\n",
    "def clean_text(text):\n",
    "    text = re.sub(r\"\\s+\", \" \", text)\n",
    "    return text.strip()\n",
    "\n",
    "def chunk_text(text, n_words=500):\n",
    "    words = text.split()\n",
    "    return [\" \".join(words[i:i+n_words]) for i in range(0, len(words), n_words)]\n",
    "\n",
    "all_chunks = []\n",
    "for path in glob.glob(os.path.join(RAW_DIR, \"*\")):\n",
    "    raw = extract_text(path)\n",
    "    clean = clean_text(raw)\n",
    "    chunks = chunk_text(clean)\n",
    "    for c in chunks:\n",
    "        all_chunks.append({\"source\": os.path.basename(path), \"text\": c})\n",
    "\n",
    "df = pd.DataFrame(all_chunks)\n",
    "os.makedirs(\"../data/processed\", exist_ok=True)\n",
    "df.to_csv(OUT_PATH, index=False)\n",
    "print(f\"Saved {len(df)} chunks to {OUT_PATH}\")\n"
   ]
  }
 ],
 "metadata": {
  "kernelspec": {
   "display_name": ".venv",
   "language": "python",
   "name": "python3"
  },
  "language_info": {
   "codemirror_mode": {
    "name": "ipython",
    "version": 3
   },
   "file_extension": ".py",
   "mimetype": "text/x-python",
   "name": "python",
   "nbconvert_exporter": "python",
   "pygments_lexer": "ipython3",
   "version": "3.12.2"
  }
 },
 "nbformat": 4,
 "nbformat_minor": 5
}
